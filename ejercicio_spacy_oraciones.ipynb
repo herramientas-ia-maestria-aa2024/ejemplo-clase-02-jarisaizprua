{
 "cells": [
  {
   "cell_type": "code",
   "execution_count": 6,
   "metadata": {},
   "outputs": [],
   "source": [
    "# Importar librerías\n",
    "import spacy"
   ]
  },
  {
   "cell_type": "code",
   "execution_count": 7,
   "metadata": {},
   "outputs": [],
   "source": [
    "# Cargar modelo de Spacy en español\n",
    "nlp = spacy.load(\"es_core_news_sm\")"
   ]
  },
  {
   "cell_type": "code",
   "execution_count": 8,
   "metadata": {},
   "outputs": [],
   "source": [
    "# Leer el archivo discurso.txt\n",
    "with open(\"discurso.txt\", \"r\", encoding=\"utf-8\") as file:\n",
    "    texto = file.read()"
   ]
  },
  {
   "cell_type": "code",
   "execution_count": 9,
   "metadata": {},
   "outputs": [],
   "source": [
    "# Procesar el texto con spaCy\n",
    "doc = nlp(texto)"
   ]
  },
  {
   "cell_type": "code",
   "execution_count": 10,
   "metadata": {},
   "outputs": [
    {
     "name": "stdout",
     "output_type": "stream",
     "text": [
      "Oración: Como ya no estaba matriculado y no tenía clases obligatorias, decidí atender al curso de caligrafía para aprender cómo se hacía.\n",
      "Número de elementos: 23\n",
      "Oración: Aprendí cosas sobre el serif y tipografías sans serif, sobre los espacios variables entre letras, sobre qué hace realmente grande a una gran tipografía.\n",
      "Número de elementos: 27\n",
      "Oración: Era sutilmente bello, histórica y artísticamente, de una forma que la ciencia no puede capturar, y lo encontré fascinante.\n",
      "Número de elementos: 23\n",
      "Oración: Nada de esto tenía ni la más mínima esperanza de aplicación práctica en mi vida.\n",
      "Número de elementos: 16\n",
      "Oración: Pero diez años más tarde, cuando estábamos diseñando el primer ordenador Macintosh, todo eso volvió a mí.\n",
      "Número de elementos: 20\n",
      "Oración: Y diseñamos el Mac con eso en su esencia.\n",
      "Número de elementos: 10\n",
      "Oración: Fue el primer ordenador con tipografías bellas.\n",
      "Número de elementos: 8\n",
      "Oración: Si nunca me hubiera dejado caer por aquel curso concreto en la universidad, el Mac jamás habría tenido múltiples tipografías, ni caracteres con espaciado proporcional.\n",
      "Número de elementos: 28\n",
      "Oración: Y como Windows no hizo más que copiar el Mac, es probable que ningún ordenador personal los tuviera ahora.\n",
      "Número de elementos: 21\n",
      "Oración: Si nunca hubiera decidido dejarlo, no habría entrado en esa clase de caligrafía y los ordenadores personales no tendrían la maravillosa tipografía que poseen.\n",
      "\n",
      "Número de elementos: 27\n"
     ]
    }
   ],
   "source": [
    "# Dividir el texto en oraciones y contar los tokens\n",
    "for oracion in doc.sents:\n",
    "    print(\"Oración:\", oracion.text)\n",
    "    print(\"Número de elementos:\", len(oracion))"
   ]
  }
 ],
 "metadata": {
  "kernelspec": {
   "display_name": "Python 3",
   "language": "python",
   "name": "python3"
  },
  "language_info": {
   "codemirror_mode": {
    "name": "ipython",
    "version": 3
   },
   "file_extension": ".py",
   "mimetype": "text/x-python",
   "name": "python",
   "nbconvert_exporter": "python",
   "pygments_lexer": "ipython3",
   "version": "3.11.3"
  }
 },
 "nbformat": 4,
 "nbformat_minor": 2
}
